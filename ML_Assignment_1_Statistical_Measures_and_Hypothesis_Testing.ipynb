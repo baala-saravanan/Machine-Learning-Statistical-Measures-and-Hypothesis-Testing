{
  "nbformat": 4,
  "nbformat_minor": 0,
  "metadata": {
    "colab": {
      "provenance": []
    },
    "kernelspec": {
      "name": "python3",
      "display_name": "Python 3"
    },
    "language_info": {
      "name": "python"
    }
  },
  "cells": [
    {
      "cell_type": "markdown",
      "source": [
        "#**ML Assignment 1 – Statistical Measures and Hypothesis Testing**\n",
        "\n",
        "**Students Performance in Exams - Statistical Analysis**\n",
        "\n",
        "The goal of this analysis is to understand students' performance in exams by examining descriptive statistics, identifying and handling outliers, exploring distributions, and performing hypothesis testing.\n",
        "\n",
        "***Dataset Link:*** https://raw.githubusercontent.com/ArchanaInsights/Datasets/main/StudentsPerformance.csv\n",
        "\n",
        "\n"
      ],
      "metadata": {
        "id": "evA14EmkI8An"
      }
    },
    {
      "cell_type": "code",
      "execution_count": 100,
      "metadata": {
        "colab": {
          "base_uri": "https://localhost:8080/",
          "height": 224
        },
        "id": "xh2D1XjkG5eW",
        "outputId": "a1783e2c-b91e-47aa-d013-6a79a6614dee"
      },
      "outputs": [
        {
          "output_type": "execute_result",
          "data": {
            "text/plain": [
              "   gender race/ethnicity parental level of education         lunch  \\\n",
              "0  female        group B           bachelor's degree      standard   \n",
              "1  female        group C                some college      standard   \n",
              "2  female        group B             master's degree      standard   \n",
              "3    male        group A          associate's degree  free/reduced   \n",
              "4    male        group C                some college      standard   \n",
              "\n",
              "  test preparation course  math score  reading score  writing score  \n",
              "0                    none          72             72             74  \n",
              "1               completed          69             90             88  \n",
              "2                    none          90             95             93  \n",
              "3                    none          47             57             44  \n",
              "4                    none          76             78             75  "
            ],
            "text/html": [
              "\n",
              "  <div id=\"df-db72c57e-7f2d-4eb0-833f-bfe43b15e788\" class=\"colab-df-container\">\n",
              "    <div>\n",
              "<style scoped>\n",
              "    .dataframe tbody tr th:only-of-type {\n",
              "        vertical-align: middle;\n",
              "    }\n",
              "\n",
              "    .dataframe tbody tr th {\n",
              "        vertical-align: top;\n",
              "    }\n",
              "\n",
              "    .dataframe thead th {\n",
              "        text-align: right;\n",
              "    }\n",
              "</style>\n",
              "<table border=\"1\" class=\"dataframe\">\n",
              "  <thead>\n",
              "    <tr style=\"text-align: right;\">\n",
              "      <th></th>\n",
              "      <th>gender</th>\n",
              "      <th>race/ethnicity</th>\n",
              "      <th>parental level of education</th>\n",
              "      <th>lunch</th>\n",
              "      <th>test preparation course</th>\n",
              "      <th>math score</th>\n",
              "      <th>reading score</th>\n",
              "      <th>writing score</th>\n",
              "    </tr>\n",
              "  </thead>\n",
              "  <tbody>\n",
              "    <tr>\n",
              "      <th>0</th>\n",
              "      <td>female</td>\n",
              "      <td>group B</td>\n",
              "      <td>bachelor's degree</td>\n",
              "      <td>standard</td>\n",
              "      <td>none</td>\n",
              "      <td>72</td>\n",
              "      <td>72</td>\n",
              "      <td>74</td>\n",
              "    </tr>\n",
              "    <tr>\n",
              "      <th>1</th>\n",
              "      <td>female</td>\n",
              "      <td>group C</td>\n",
              "      <td>some college</td>\n",
              "      <td>standard</td>\n",
              "      <td>completed</td>\n",
              "      <td>69</td>\n",
              "      <td>90</td>\n",
              "      <td>88</td>\n",
              "    </tr>\n",
              "    <tr>\n",
              "      <th>2</th>\n",
              "      <td>female</td>\n",
              "      <td>group B</td>\n",
              "      <td>master's degree</td>\n",
              "      <td>standard</td>\n",
              "      <td>none</td>\n",
              "      <td>90</td>\n",
              "      <td>95</td>\n",
              "      <td>93</td>\n",
              "    </tr>\n",
              "    <tr>\n",
              "      <th>3</th>\n",
              "      <td>male</td>\n",
              "      <td>group A</td>\n",
              "      <td>associate's degree</td>\n",
              "      <td>free/reduced</td>\n",
              "      <td>none</td>\n",
              "      <td>47</td>\n",
              "      <td>57</td>\n",
              "      <td>44</td>\n",
              "    </tr>\n",
              "    <tr>\n",
              "      <th>4</th>\n",
              "      <td>male</td>\n",
              "      <td>group C</td>\n",
              "      <td>some college</td>\n",
              "      <td>standard</td>\n",
              "      <td>none</td>\n",
              "      <td>76</td>\n",
              "      <td>78</td>\n",
              "      <td>75</td>\n",
              "    </tr>\n",
              "  </tbody>\n",
              "</table>\n",
              "</div>\n",
              "    <div class=\"colab-df-buttons\">\n",
              "\n",
              "  <div class=\"colab-df-container\">\n",
              "    <button class=\"colab-df-convert\" onclick=\"convertToInteractive('df-db72c57e-7f2d-4eb0-833f-bfe43b15e788')\"\n",
              "            title=\"Convert this dataframe to an interactive table.\"\n",
              "            style=\"display:none;\">\n",
              "\n",
              "  <svg xmlns=\"http://www.w3.org/2000/svg\" height=\"24px\" viewBox=\"0 -960 960 960\">\n",
              "    <path d=\"M120-120v-720h720v720H120Zm60-500h600v-160H180v160Zm220 220h160v-160H400v160Zm0 220h160v-160H400v160ZM180-400h160v-160H180v160Zm440 0h160v-160H620v160ZM180-180h160v-160H180v160Zm440 0h160v-160H620v160Z\"/>\n",
              "  </svg>\n",
              "    </button>\n",
              "\n",
              "  <style>\n",
              "    .colab-df-container {\n",
              "      display:flex;\n",
              "      gap: 12px;\n",
              "    }\n",
              "\n",
              "    .colab-df-convert {\n",
              "      background-color: #E8F0FE;\n",
              "      border: none;\n",
              "      border-radius: 50%;\n",
              "      cursor: pointer;\n",
              "      display: none;\n",
              "      fill: #1967D2;\n",
              "      height: 32px;\n",
              "      padding: 0 0 0 0;\n",
              "      width: 32px;\n",
              "    }\n",
              "\n",
              "    .colab-df-convert:hover {\n",
              "      background-color: #E2EBFA;\n",
              "      box-shadow: 0px 1px 2px rgba(60, 64, 67, 0.3), 0px 1px 3px 1px rgba(60, 64, 67, 0.15);\n",
              "      fill: #174EA6;\n",
              "    }\n",
              "\n",
              "    .colab-df-buttons div {\n",
              "      margin-bottom: 4px;\n",
              "    }\n",
              "\n",
              "    [theme=dark] .colab-df-convert {\n",
              "      background-color: #3B4455;\n",
              "      fill: #D2E3FC;\n",
              "    }\n",
              "\n",
              "    [theme=dark] .colab-df-convert:hover {\n",
              "      background-color: #434B5C;\n",
              "      box-shadow: 0px 1px 3px 1px rgba(0, 0, 0, 0.15);\n",
              "      filter: drop-shadow(0px 1px 2px rgba(0, 0, 0, 0.3));\n",
              "      fill: #FFFFFF;\n",
              "    }\n",
              "  </style>\n",
              "\n",
              "    <script>\n",
              "      const buttonEl =\n",
              "        document.querySelector('#df-db72c57e-7f2d-4eb0-833f-bfe43b15e788 button.colab-df-convert');\n",
              "      buttonEl.style.display =\n",
              "        google.colab.kernel.accessAllowed ? 'block' : 'none';\n",
              "\n",
              "      async function convertToInteractive(key) {\n",
              "        const element = document.querySelector('#df-db72c57e-7f2d-4eb0-833f-bfe43b15e788');\n",
              "        const dataTable =\n",
              "          await google.colab.kernel.invokeFunction('convertToInteractive',\n",
              "                                                    [key], {});\n",
              "        if (!dataTable) return;\n",
              "\n",
              "        const docLinkHtml = 'Like what you see? Visit the ' +\n",
              "          '<a target=\"_blank\" href=https://colab.research.google.com/notebooks/data_table.ipynb>data table notebook</a>'\n",
              "          + ' to learn more about interactive tables.';\n",
              "        element.innerHTML = '';\n",
              "        dataTable['output_type'] = 'display_data';\n",
              "        await google.colab.output.renderOutput(dataTable, element);\n",
              "        const docLink = document.createElement('div');\n",
              "        docLink.innerHTML = docLinkHtml;\n",
              "        element.appendChild(docLink);\n",
              "      }\n",
              "    </script>\n",
              "  </div>\n",
              "\n",
              "\n",
              "<div id=\"df-496c2412-d7bf-45cc-a41a-5aab6a49f8bd\">\n",
              "  <button class=\"colab-df-quickchart\" onclick=\"quickchart('df-496c2412-d7bf-45cc-a41a-5aab6a49f8bd')\"\n",
              "            title=\"Suggest charts\"\n",
              "            style=\"display:none;\">\n",
              "\n",
              "<svg xmlns=\"http://www.w3.org/2000/svg\" height=\"24px\"viewBox=\"0 0 24 24\"\n",
              "     width=\"24px\">\n",
              "    <g>\n",
              "        <path d=\"M19 3H5c-1.1 0-2 .9-2 2v14c0 1.1.9 2 2 2h14c1.1 0 2-.9 2-2V5c0-1.1-.9-2-2-2zM9 17H7v-7h2v7zm4 0h-2V7h2v10zm4 0h-2v-4h2v4z\"/>\n",
              "    </g>\n",
              "</svg>\n",
              "  </button>\n",
              "\n",
              "<style>\n",
              "  .colab-df-quickchart {\n",
              "      --bg-color: #E8F0FE;\n",
              "      --fill-color: #1967D2;\n",
              "      --hover-bg-color: #E2EBFA;\n",
              "      --hover-fill-color: #174EA6;\n",
              "      --disabled-fill-color: #AAA;\n",
              "      --disabled-bg-color: #DDD;\n",
              "  }\n",
              "\n",
              "  [theme=dark] .colab-df-quickchart {\n",
              "      --bg-color: #3B4455;\n",
              "      --fill-color: #D2E3FC;\n",
              "      --hover-bg-color: #434B5C;\n",
              "      --hover-fill-color: #FFFFFF;\n",
              "      --disabled-bg-color: #3B4455;\n",
              "      --disabled-fill-color: #666;\n",
              "  }\n",
              "\n",
              "  .colab-df-quickchart {\n",
              "    background-color: var(--bg-color);\n",
              "    border: none;\n",
              "    border-radius: 50%;\n",
              "    cursor: pointer;\n",
              "    display: none;\n",
              "    fill: var(--fill-color);\n",
              "    height: 32px;\n",
              "    padding: 0;\n",
              "    width: 32px;\n",
              "  }\n",
              "\n",
              "  .colab-df-quickchart:hover {\n",
              "    background-color: var(--hover-bg-color);\n",
              "    box-shadow: 0 1px 2px rgba(60, 64, 67, 0.3), 0 1px 3px 1px rgba(60, 64, 67, 0.15);\n",
              "    fill: var(--button-hover-fill-color);\n",
              "  }\n",
              "\n",
              "  .colab-df-quickchart-complete:disabled,\n",
              "  .colab-df-quickchart-complete:disabled:hover {\n",
              "    background-color: var(--disabled-bg-color);\n",
              "    fill: var(--disabled-fill-color);\n",
              "    box-shadow: none;\n",
              "  }\n",
              "\n",
              "  .colab-df-spinner {\n",
              "    border: 2px solid var(--fill-color);\n",
              "    border-color: transparent;\n",
              "    border-bottom-color: var(--fill-color);\n",
              "    animation:\n",
              "      spin 1s steps(1) infinite;\n",
              "  }\n",
              "\n",
              "  @keyframes spin {\n",
              "    0% {\n",
              "      border-color: transparent;\n",
              "      border-bottom-color: var(--fill-color);\n",
              "      border-left-color: var(--fill-color);\n",
              "    }\n",
              "    20% {\n",
              "      border-color: transparent;\n",
              "      border-left-color: var(--fill-color);\n",
              "      border-top-color: var(--fill-color);\n",
              "    }\n",
              "    30% {\n",
              "      border-color: transparent;\n",
              "      border-left-color: var(--fill-color);\n",
              "      border-top-color: var(--fill-color);\n",
              "      border-right-color: var(--fill-color);\n",
              "    }\n",
              "    40% {\n",
              "      border-color: transparent;\n",
              "      border-right-color: var(--fill-color);\n",
              "      border-top-color: var(--fill-color);\n",
              "    }\n",
              "    60% {\n",
              "      border-color: transparent;\n",
              "      border-right-color: var(--fill-color);\n",
              "    }\n",
              "    80% {\n",
              "      border-color: transparent;\n",
              "      border-right-color: var(--fill-color);\n",
              "      border-bottom-color: var(--fill-color);\n",
              "    }\n",
              "    90% {\n",
              "      border-color: transparent;\n",
              "      border-bottom-color: var(--fill-color);\n",
              "    }\n",
              "  }\n",
              "</style>\n",
              "\n",
              "  <script>\n",
              "    async function quickchart(key) {\n",
              "      const quickchartButtonEl =\n",
              "        document.querySelector('#' + key + ' button');\n",
              "      quickchartButtonEl.disabled = true;  // To prevent multiple clicks.\n",
              "      quickchartButtonEl.classList.add('colab-df-spinner');\n",
              "      try {\n",
              "        const charts = await google.colab.kernel.invokeFunction(\n",
              "            'suggestCharts', [key], {});\n",
              "      } catch (error) {\n",
              "        console.error('Error during call to suggestCharts:', error);\n",
              "      }\n",
              "      quickchartButtonEl.classList.remove('colab-df-spinner');\n",
              "      quickchartButtonEl.classList.add('colab-df-quickchart-complete');\n",
              "    }\n",
              "    (() => {\n",
              "      let quickchartButtonEl =\n",
              "        document.querySelector('#df-496c2412-d7bf-45cc-a41a-5aab6a49f8bd button');\n",
              "      quickchartButtonEl.style.display =\n",
              "        google.colab.kernel.accessAllowed ? 'block' : 'none';\n",
              "    })();\n",
              "  </script>\n",
              "</div>\n",
              "\n",
              "    </div>\n",
              "  </div>\n"
            ],
            "application/vnd.google.colaboratory.intrinsic+json": {
              "type": "dataframe",
              "variable_name": "df",
              "summary": "{\n  \"name\": \"df\",\n  \"rows\": 1000,\n  \"fields\": [\n    {\n      \"column\": \"gender\",\n      \"properties\": {\n        \"dtype\": \"category\",\n        \"num_unique_values\": 2,\n        \"samples\": [\n          \"male\",\n          \"female\"\n        ],\n        \"semantic_type\": \"\",\n        \"description\": \"\"\n      }\n    },\n    {\n      \"column\": \"race/ethnicity\",\n      \"properties\": {\n        \"dtype\": \"category\",\n        \"num_unique_values\": 5,\n        \"samples\": [\n          \"group C\",\n          \"group E\"\n        ],\n        \"semantic_type\": \"\",\n        \"description\": \"\"\n      }\n    },\n    {\n      \"column\": \"parental level of education\",\n      \"properties\": {\n        \"dtype\": \"category\",\n        \"num_unique_values\": 6,\n        \"samples\": [\n          \"bachelor's degree\",\n          \"some college\"\n        ],\n        \"semantic_type\": \"\",\n        \"description\": \"\"\n      }\n    },\n    {\n      \"column\": \"lunch\",\n      \"properties\": {\n        \"dtype\": \"category\",\n        \"num_unique_values\": 2,\n        \"samples\": [\n          \"free/reduced\",\n          \"standard\"\n        ],\n        \"semantic_type\": \"\",\n        \"description\": \"\"\n      }\n    },\n    {\n      \"column\": \"test preparation course\",\n      \"properties\": {\n        \"dtype\": \"category\",\n        \"num_unique_values\": 2,\n        \"samples\": [\n          \"completed\",\n          \"none\"\n        ],\n        \"semantic_type\": \"\",\n        \"description\": \"\"\n      }\n    },\n    {\n      \"column\": \"math score\",\n      \"properties\": {\n        \"dtype\": \"number\",\n        \"std\": 15,\n        \"min\": 0,\n        \"max\": 100,\n        \"num_unique_values\": 81,\n        \"samples\": [\n          55,\n          72\n        ],\n        \"semantic_type\": \"\",\n        \"description\": \"\"\n      }\n    },\n    {\n      \"column\": \"reading score\",\n      \"properties\": {\n        \"dtype\": \"number\",\n        \"std\": 14,\n        \"min\": 17,\n        \"max\": 100,\n        \"num_unique_values\": 72,\n        \"samples\": [\n          78,\n          23\n        ],\n        \"semantic_type\": \"\",\n        \"description\": \"\"\n      }\n    },\n    {\n      \"column\": \"writing score\",\n      \"properties\": {\n        \"dtype\": \"number\",\n        \"std\": 15,\n        \"min\": 10,\n        \"max\": 100,\n        \"num_unique_values\": 77,\n        \"samples\": [\n          75,\n          76\n        ],\n        \"semantic_type\": \"\",\n        \"description\": \"\"\n      }\n    }\n  ]\n}"
            }
          },
          "metadata": {},
          "execution_count": 100
        }
      ],
      "source": [
        "import pandas as pd\n",
        "\n",
        "df = pd.read_csv('https://raw.githubusercontent.com/ArchanaInsights/Datasets/main/StudentsPerformance.csv')\n",
        "df.head()"
      ]
    },
    {
      "cell_type": "code",
      "source": [
        "df.shape"
      ],
      "metadata": {
        "colab": {
          "base_uri": "https://localhost:8080/"
        },
        "id": "-gLC3W1YQNE3",
        "outputId": "4c0568f5-ac5a-4c60-98ad-8eb149334795"
      },
      "execution_count": 101,
      "outputs": [
        {
          "output_type": "execute_result",
          "data": {
            "text/plain": [
              "(1000, 8)"
            ]
          },
          "metadata": {},
          "execution_count": 101
        }
      ]
    },
    {
      "cell_type": "code",
      "source": [
        "df.info()"
      ],
      "metadata": {
        "colab": {
          "base_uri": "https://localhost:8080/"
        },
        "id": "UsuRkSeeQXKW",
        "outputId": "2ade5d8f-ad69-42a0-d6bf-d8b73435fb2b"
      },
      "execution_count": 102,
      "outputs": [
        {
          "output_type": "stream",
          "name": "stdout",
          "text": [
            "<class 'pandas.core.frame.DataFrame'>\n",
            "RangeIndex: 1000 entries, 0 to 999\n",
            "Data columns (total 8 columns):\n",
            " #   Column                       Non-Null Count  Dtype \n",
            "---  ------                       --------------  ----- \n",
            " 0   gender                       1000 non-null   object\n",
            " 1   race/ethnicity               1000 non-null   object\n",
            " 2   parental level of education  1000 non-null   object\n",
            " 3   lunch                        1000 non-null   object\n",
            " 4   test preparation course      1000 non-null   object\n",
            " 5   math score                   1000 non-null   int64 \n",
            " 6   reading score                1000 non-null   int64 \n",
            " 7   writing score                1000 non-null   int64 \n",
            "dtypes: int64(3), object(5)\n",
            "memory usage: 62.6+ KB\n"
          ]
        }
      ]
    },
    {
      "cell_type": "code",
      "source": [
        "df.describe()"
      ],
      "metadata": {
        "colab": {
          "base_uri": "https://localhost:8080/",
          "height": 300
        },
        "id": "QwuVceU2Qj8a",
        "outputId": "8ad9f34d-449b-4050-fa73-b23e6c25f69e"
      },
      "execution_count": 103,
      "outputs": [
        {
          "output_type": "execute_result",
          "data": {
            "text/plain": [
              "       math score  reading score  writing score\n",
              "count  1000.00000    1000.000000    1000.000000\n",
              "mean     66.08900      69.169000      68.054000\n",
              "std      15.16308      14.600192      15.195657\n",
              "min       0.00000      17.000000      10.000000\n",
              "25%      57.00000      59.000000      57.750000\n",
              "50%      66.00000      70.000000      69.000000\n",
              "75%      77.00000      79.000000      79.000000\n",
              "max     100.00000     100.000000     100.000000"
            ],
            "text/html": [
              "\n",
              "  <div id=\"df-3ea0535b-f448-4646-a578-231272a7a2cd\" class=\"colab-df-container\">\n",
              "    <div>\n",
              "<style scoped>\n",
              "    .dataframe tbody tr th:only-of-type {\n",
              "        vertical-align: middle;\n",
              "    }\n",
              "\n",
              "    .dataframe tbody tr th {\n",
              "        vertical-align: top;\n",
              "    }\n",
              "\n",
              "    .dataframe thead th {\n",
              "        text-align: right;\n",
              "    }\n",
              "</style>\n",
              "<table border=\"1\" class=\"dataframe\">\n",
              "  <thead>\n",
              "    <tr style=\"text-align: right;\">\n",
              "      <th></th>\n",
              "      <th>math score</th>\n",
              "      <th>reading score</th>\n",
              "      <th>writing score</th>\n",
              "    </tr>\n",
              "  </thead>\n",
              "  <tbody>\n",
              "    <tr>\n",
              "      <th>count</th>\n",
              "      <td>1000.00000</td>\n",
              "      <td>1000.000000</td>\n",
              "      <td>1000.000000</td>\n",
              "    </tr>\n",
              "    <tr>\n",
              "      <th>mean</th>\n",
              "      <td>66.08900</td>\n",
              "      <td>69.169000</td>\n",
              "      <td>68.054000</td>\n",
              "    </tr>\n",
              "    <tr>\n",
              "      <th>std</th>\n",
              "      <td>15.16308</td>\n",
              "      <td>14.600192</td>\n",
              "      <td>15.195657</td>\n",
              "    </tr>\n",
              "    <tr>\n",
              "      <th>min</th>\n",
              "      <td>0.00000</td>\n",
              "      <td>17.000000</td>\n",
              "      <td>10.000000</td>\n",
              "    </tr>\n",
              "    <tr>\n",
              "      <th>25%</th>\n",
              "      <td>57.00000</td>\n",
              "      <td>59.000000</td>\n",
              "      <td>57.750000</td>\n",
              "    </tr>\n",
              "    <tr>\n",
              "      <th>50%</th>\n",
              "      <td>66.00000</td>\n",
              "      <td>70.000000</td>\n",
              "      <td>69.000000</td>\n",
              "    </tr>\n",
              "    <tr>\n",
              "      <th>75%</th>\n",
              "      <td>77.00000</td>\n",
              "      <td>79.000000</td>\n",
              "      <td>79.000000</td>\n",
              "    </tr>\n",
              "    <tr>\n",
              "      <th>max</th>\n",
              "      <td>100.00000</td>\n",
              "      <td>100.000000</td>\n",
              "      <td>100.000000</td>\n",
              "    </tr>\n",
              "  </tbody>\n",
              "</table>\n",
              "</div>\n",
              "    <div class=\"colab-df-buttons\">\n",
              "\n",
              "  <div class=\"colab-df-container\">\n",
              "    <button class=\"colab-df-convert\" onclick=\"convertToInteractive('df-3ea0535b-f448-4646-a578-231272a7a2cd')\"\n",
              "            title=\"Convert this dataframe to an interactive table.\"\n",
              "            style=\"display:none;\">\n",
              "\n",
              "  <svg xmlns=\"http://www.w3.org/2000/svg\" height=\"24px\" viewBox=\"0 -960 960 960\">\n",
              "    <path d=\"M120-120v-720h720v720H120Zm60-500h600v-160H180v160Zm220 220h160v-160H400v160Zm0 220h160v-160H400v160ZM180-400h160v-160H180v160Zm440 0h160v-160H620v160ZM180-180h160v-160H180v160Zm440 0h160v-160H620v160Z\"/>\n",
              "  </svg>\n",
              "    </button>\n",
              "\n",
              "  <style>\n",
              "    .colab-df-container {\n",
              "      display:flex;\n",
              "      gap: 12px;\n",
              "    }\n",
              "\n",
              "    .colab-df-convert {\n",
              "      background-color: #E8F0FE;\n",
              "      border: none;\n",
              "      border-radius: 50%;\n",
              "      cursor: pointer;\n",
              "      display: none;\n",
              "      fill: #1967D2;\n",
              "      height: 32px;\n",
              "      padding: 0 0 0 0;\n",
              "      width: 32px;\n",
              "    }\n",
              "\n",
              "    .colab-df-convert:hover {\n",
              "      background-color: #E2EBFA;\n",
              "      box-shadow: 0px 1px 2px rgba(60, 64, 67, 0.3), 0px 1px 3px 1px rgba(60, 64, 67, 0.15);\n",
              "      fill: #174EA6;\n",
              "    }\n",
              "\n",
              "    .colab-df-buttons div {\n",
              "      margin-bottom: 4px;\n",
              "    }\n",
              "\n",
              "    [theme=dark] .colab-df-convert {\n",
              "      background-color: #3B4455;\n",
              "      fill: #D2E3FC;\n",
              "    }\n",
              "\n",
              "    [theme=dark] .colab-df-convert:hover {\n",
              "      background-color: #434B5C;\n",
              "      box-shadow: 0px 1px 3px 1px rgba(0, 0, 0, 0.15);\n",
              "      filter: drop-shadow(0px 1px 2px rgba(0, 0, 0, 0.3));\n",
              "      fill: #FFFFFF;\n",
              "    }\n",
              "  </style>\n",
              "\n",
              "    <script>\n",
              "      const buttonEl =\n",
              "        document.querySelector('#df-3ea0535b-f448-4646-a578-231272a7a2cd button.colab-df-convert');\n",
              "      buttonEl.style.display =\n",
              "        google.colab.kernel.accessAllowed ? 'block' : 'none';\n",
              "\n",
              "      async function convertToInteractive(key) {\n",
              "        const element = document.querySelector('#df-3ea0535b-f448-4646-a578-231272a7a2cd');\n",
              "        const dataTable =\n",
              "          await google.colab.kernel.invokeFunction('convertToInteractive',\n",
              "                                                    [key], {});\n",
              "        if (!dataTable) return;\n",
              "\n",
              "        const docLinkHtml = 'Like what you see? Visit the ' +\n",
              "          '<a target=\"_blank\" href=https://colab.research.google.com/notebooks/data_table.ipynb>data table notebook</a>'\n",
              "          + ' to learn more about interactive tables.';\n",
              "        element.innerHTML = '';\n",
              "        dataTable['output_type'] = 'display_data';\n",
              "        await google.colab.output.renderOutput(dataTable, element);\n",
              "        const docLink = document.createElement('div');\n",
              "        docLink.innerHTML = docLinkHtml;\n",
              "        element.appendChild(docLink);\n",
              "      }\n",
              "    </script>\n",
              "  </div>\n",
              "\n",
              "\n",
              "<div id=\"df-dd7bd01c-bb5a-4053-8461-40214ac41d36\">\n",
              "  <button class=\"colab-df-quickchart\" onclick=\"quickchart('df-dd7bd01c-bb5a-4053-8461-40214ac41d36')\"\n",
              "            title=\"Suggest charts\"\n",
              "            style=\"display:none;\">\n",
              "\n",
              "<svg xmlns=\"http://www.w3.org/2000/svg\" height=\"24px\"viewBox=\"0 0 24 24\"\n",
              "     width=\"24px\">\n",
              "    <g>\n",
              "        <path d=\"M19 3H5c-1.1 0-2 .9-2 2v14c0 1.1.9 2 2 2h14c1.1 0 2-.9 2-2V5c0-1.1-.9-2-2-2zM9 17H7v-7h2v7zm4 0h-2V7h2v10zm4 0h-2v-4h2v4z\"/>\n",
              "    </g>\n",
              "</svg>\n",
              "  </button>\n",
              "\n",
              "<style>\n",
              "  .colab-df-quickchart {\n",
              "      --bg-color: #E8F0FE;\n",
              "      --fill-color: #1967D2;\n",
              "      --hover-bg-color: #E2EBFA;\n",
              "      --hover-fill-color: #174EA6;\n",
              "      --disabled-fill-color: #AAA;\n",
              "      --disabled-bg-color: #DDD;\n",
              "  }\n",
              "\n",
              "  [theme=dark] .colab-df-quickchart {\n",
              "      --bg-color: #3B4455;\n",
              "      --fill-color: #D2E3FC;\n",
              "      --hover-bg-color: #434B5C;\n",
              "      --hover-fill-color: #FFFFFF;\n",
              "      --disabled-bg-color: #3B4455;\n",
              "      --disabled-fill-color: #666;\n",
              "  }\n",
              "\n",
              "  .colab-df-quickchart {\n",
              "    background-color: var(--bg-color);\n",
              "    border: none;\n",
              "    border-radius: 50%;\n",
              "    cursor: pointer;\n",
              "    display: none;\n",
              "    fill: var(--fill-color);\n",
              "    height: 32px;\n",
              "    padding: 0;\n",
              "    width: 32px;\n",
              "  }\n",
              "\n",
              "  .colab-df-quickchart:hover {\n",
              "    background-color: var(--hover-bg-color);\n",
              "    box-shadow: 0 1px 2px rgba(60, 64, 67, 0.3), 0 1px 3px 1px rgba(60, 64, 67, 0.15);\n",
              "    fill: var(--button-hover-fill-color);\n",
              "  }\n",
              "\n",
              "  .colab-df-quickchart-complete:disabled,\n",
              "  .colab-df-quickchart-complete:disabled:hover {\n",
              "    background-color: var(--disabled-bg-color);\n",
              "    fill: var(--disabled-fill-color);\n",
              "    box-shadow: none;\n",
              "  }\n",
              "\n",
              "  .colab-df-spinner {\n",
              "    border: 2px solid var(--fill-color);\n",
              "    border-color: transparent;\n",
              "    border-bottom-color: var(--fill-color);\n",
              "    animation:\n",
              "      spin 1s steps(1) infinite;\n",
              "  }\n",
              "\n",
              "  @keyframes spin {\n",
              "    0% {\n",
              "      border-color: transparent;\n",
              "      border-bottom-color: var(--fill-color);\n",
              "      border-left-color: var(--fill-color);\n",
              "    }\n",
              "    20% {\n",
              "      border-color: transparent;\n",
              "      border-left-color: var(--fill-color);\n",
              "      border-top-color: var(--fill-color);\n",
              "    }\n",
              "    30% {\n",
              "      border-color: transparent;\n",
              "      border-left-color: var(--fill-color);\n",
              "      border-top-color: var(--fill-color);\n",
              "      border-right-color: var(--fill-color);\n",
              "    }\n",
              "    40% {\n",
              "      border-color: transparent;\n",
              "      border-right-color: var(--fill-color);\n",
              "      border-top-color: var(--fill-color);\n",
              "    }\n",
              "    60% {\n",
              "      border-color: transparent;\n",
              "      border-right-color: var(--fill-color);\n",
              "    }\n",
              "    80% {\n",
              "      border-color: transparent;\n",
              "      border-right-color: var(--fill-color);\n",
              "      border-bottom-color: var(--fill-color);\n",
              "    }\n",
              "    90% {\n",
              "      border-color: transparent;\n",
              "      border-bottom-color: var(--fill-color);\n",
              "    }\n",
              "  }\n",
              "</style>\n",
              "\n",
              "  <script>\n",
              "    async function quickchart(key) {\n",
              "      const quickchartButtonEl =\n",
              "        document.querySelector('#' + key + ' button');\n",
              "      quickchartButtonEl.disabled = true;  // To prevent multiple clicks.\n",
              "      quickchartButtonEl.classList.add('colab-df-spinner');\n",
              "      try {\n",
              "        const charts = await google.colab.kernel.invokeFunction(\n",
              "            'suggestCharts', [key], {});\n",
              "      } catch (error) {\n",
              "        console.error('Error during call to suggestCharts:', error);\n",
              "      }\n",
              "      quickchartButtonEl.classList.remove('colab-df-spinner');\n",
              "      quickchartButtonEl.classList.add('colab-df-quickchart-complete');\n",
              "    }\n",
              "    (() => {\n",
              "      let quickchartButtonEl =\n",
              "        document.querySelector('#df-dd7bd01c-bb5a-4053-8461-40214ac41d36 button');\n",
              "      quickchartButtonEl.style.display =\n",
              "        google.colab.kernel.accessAllowed ? 'block' : 'none';\n",
              "    })();\n",
              "  </script>\n",
              "</div>\n",
              "\n",
              "    </div>\n",
              "  </div>\n"
            ],
            "application/vnd.google.colaboratory.intrinsic+json": {
              "type": "dataframe",
              "summary": "{\n  \"name\": \"df\",\n  \"rows\": 8,\n  \"fields\": [\n    {\n      \"column\": \"math score\",\n      \"properties\": {\n        \"dtype\": \"number\",\n        \"std\": 335.8676421540409,\n        \"min\": 0.0,\n        \"max\": 1000.0,\n        \"num_unique_values\": 8,\n        \"samples\": [\n          66.089,\n          66.0,\n          1000.0\n        ],\n        \"semantic_type\": \"\",\n        \"description\": \"\"\n      }\n    },\n    {\n      \"column\": \"reading score\",\n      \"properties\": {\n        \"dtype\": \"number\",\n        \"std\": 334.2004716262942,\n        \"min\": 14.60019193725222,\n        \"max\": 1000.0,\n        \"num_unique_values\": 8,\n        \"samples\": [\n          69.169,\n          70.0,\n          1000.0\n        ],\n        \"semantic_type\": \"\",\n        \"description\": \"\"\n      }\n    },\n    {\n      \"column\": \"writing score\",\n      \"properties\": {\n        \"dtype\": \"number\",\n        \"std\": 334.8025670597152,\n        \"min\": 10.0,\n        \"max\": 1000.0,\n        \"num_unique_values\": 8,\n        \"samples\": [\n          68.054,\n          69.0,\n          1000.0\n        ],\n        \"semantic_type\": \"\",\n        \"description\": \"\"\n      }\n    }\n  ]\n}"
            }
          },
          "metadata": {},
          "execution_count": 103
        }
      ]
    },
    {
      "cell_type": "markdown",
      "source": [
        "##**Analysis Steps:-**\n",
        "##**Descriptive Statistics:**\n",
        "Compute the following descriptive statistics for each of the score columns math score, reading score, and writing score:\n",
        "\n",
        "**Mean**\n",
        "\n",
        "**Median**\n",
        "\n",
        "**Mode**\n",
        "\n",
        "**Minimum**\n",
        "\n",
        "**Maximum**\n",
        "\n",
        "**Standard Deviation**\n",
        "\n",
        "Provide a summary of these statistics and discuss any interesting observations.\n"
      ],
      "metadata": {
        "id": "bJIvL-y6Q4Hu"
      }
    },
    {
      "cell_type": "code",
      "source": [
        "df[['math score', 'reading score', 'writing score']].mean() #mean"
      ],
      "metadata": {
        "colab": {
          "base_uri": "https://localhost:8080/",
          "height": 178
        },
        "id": "bYzvcSj4QmIV",
        "outputId": "9037fc3c-54b1-4eb6-9a57-fc86260d987c"
      },
      "execution_count": 104,
      "outputs": [
        {
          "output_type": "execute_result",
          "data": {
            "text/plain": [
              "math score       66.089\n",
              "reading score    69.169\n",
              "writing score    68.054\n",
              "dtype: float64"
            ],
            "text/html": [
              "<div>\n",
              "<style scoped>\n",
              "    .dataframe tbody tr th:only-of-type {\n",
              "        vertical-align: middle;\n",
              "    }\n",
              "\n",
              "    .dataframe tbody tr th {\n",
              "        vertical-align: top;\n",
              "    }\n",
              "\n",
              "    .dataframe thead th {\n",
              "        text-align: right;\n",
              "    }\n",
              "</style>\n",
              "<table border=\"1\" class=\"dataframe\">\n",
              "  <thead>\n",
              "    <tr style=\"text-align: right;\">\n",
              "      <th></th>\n",
              "      <th>0</th>\n",
              "    </tr>\n",
              "  </thead>\n",
              "  <tbody>\n",
              "    <tr>\n",
              "      <th>math score</th>\n",
              "      <td>66.089</td>\n",
              "    </tr>\n",
              "    <tr>\n",
              "      <th>reading score</th>\n",
              "      <td>69.169</td>\n",
              "    </tr>\n",
              "    <tr>\n",
              "      <th>writing score</th>\n",
              "      <td>68.054</td>\n",
              "    </tr>\n",
              "  </tbody>\n",
              "</table>\n",
              "</div><br><label><b>dtype:</b> float64</label>"
            ]
          },
          "metadata": {},
          "execution_count": 104
        }
      ]
    },
    {
      "cell_type": "code",
      "source": [
        "df[['math score', 'reading score', 'writing score']].median() #median"
      ],
      "metadata": {
        "id": "7Vj6BuI_TMuQ",
        "colab": {
          "base_uri": "https://localhost:8080/",
          "height": 178
        },
        "outputId": "2296af89-41ff-441d-cb1a-c7835525a613"
      },
      "execution_count": 105,
      "outputs": [
        {
          "output_type": "execute_result",
          "data": {
            "text/plain": [
              "math score       66.0\n",
              "reading score    70.0\n",
              "writing score    69.0\n",
              "dtype: float64"
            ],
            "text/html": [
              "<div>\n",
              "<style scoped>\n",
              "    .dataframe tbody tr th:only-of-type {\n",
              "        vertical-align: middle;\n",
              "    }\n",
              "\n",
              "    .dataframe tbody tr th {\n",
              "        vertical-align: top;\n",
              "    }\n",
              "\n",
              "    .dataframe thead th {\n",
              "        text-align: right;\n",
              "    }\n",
              "</style>\n",
              "<table border=\"1\" class=\"dataframe\">\n",
              "  <thead>\n",
              "    <tr style=\"text-align: right;\">\n",
              "      <th></th>\n",
              "      <th>0</th>\n",
              "    </tr>\n",
              "  </thead>\n",
              "  <tbody>\n",
              "    <tr>\n",
              "      <th>math score</th>\n",
              "      <td>66.0</td>\n",
              "    </tr>\n",
              "    <tr>\n",
              "      <th>reading score</th>\n",
              "      <td>70.0</td>\n",
              "    </tr>\n",
              "    <tr>\n",
              "      <th>writing score</th>\n",
              "      <td>69.0</td>\n",
              "    </tr>\n",
              "  </tbody>\n",
              "</table>\n",
              "</div><br><label><b>dtype:</b> float64</label>"
            ]
          },
          "metadata": {},
          "execution_count": 105
        }
      ]
    },
    {
      "cell_type": "code",
      "source": [
        "df[['math score', 'reading score', 'writing score']].mode() #mode"
      ],
      "metadata": {
        "colab": {
          "base_uri": "https://localhost:8080/",
          "height": 81
        },
        "id": "zt9iW16Kd0jb",
        "outputId": "d58e3b9f-673b-4e64-f864-d7a2481d8b08"
      },
      "execution_count": 106,
      "outputs": [
        {
          "output_type": "execute_result",
          "data": {
            "text/plain": [
              "   math score  reading score  writing score\n",
              "0          65             72             74"
            ],
            "text/html": [
              "\n",
              "  <div id=\"df-e80f20cf-67b8-4cab-a301-8ab101f6ed5e\" class=\"colab-df-container\">\n",
              "    <div>\n",
              "<style scoped>\n",
              "    .dataframe tbody tr th:only-of-type {\n",
              "        vertical-align: middle;\n",
              "    }\n",
              "\n",
              "    .dataframe tbody tr th {\n",
              "        vertical-align: top;\n",
              "    }\n",
              "\n",
              "    .dataframe thead th {\n",
              "        text-align: right;\n",
              "    }\n",
              "</style>\n",
              "<table border=\"1\" class=\"dataframe\">\n",
              "  <thead>\n",
              "    <tr style=\"text-align: right;\">\n",
              "      <th></th>\n",
              "      <th>math score</th>\n",
              "      <th>reading score</th>\n",
              "      <th>writing score</th>\n",
              "    </tr>\n",
              "  </thead>\n",
              "  <tbody>\n",
              "    <tr>\n",
              "      <th>0</th>\n",
              "      <td>65</td>\n",
              "      <td>72</td>\n",
              "      <td>74</td>\n",
              "    </tr>\n",
              "  </tbody>\n",
              "</table>\n",
              "</div>\n",
              "    <div class=\"colab-df-buttons\">\n",
              "\n",
              "  <div class=\"colab-df-container\">\n",
              "    <button class=\"colab-df-convert\" onclick=\"convertToInteractive('df-e80f20cf-67b8-4cab-a301-8ab101f6ed5e')\"\n",
              "            title=\"Convert this dataframe to an interactive table.\"\n",
              "            style=\"display:none;\">\n",
              "\n",
              "  <svg xmlns=\"http://www.w3.org/2000/svg\" height=\"24px\" viewBox=\"0 -960 960 960\">\n",
              "    <path d=\"M120-120v-720h720v720H120Zm60-500h600v-160H180v160Zm220 220h160v-160H400v160Zm0 220h160v-160H400v160ZM180-400h160v-160H180v160Zm440 0h160v-160H620v160ZM180-180h160v-160H180v160Zm440 0h160v-160H620v160Z\"/>\n",
              "  </svg>\n",
              "    </button>\n",
              "\n",
              "  <style>\n",
              "    .colab-df-container {\n",
              "      display:flex;\n",
              "      gap: 12px;\n",
              "    }\n",
              "\n",
              "    .colab-df-convert {\n",
              "      background-color: #E8F0FE;\n",
              "      border: none;\n",
              "      border-radius: 50%;\n",
              "      cursor: pointer;\n",
              "      display: none;\n",
              "      fill: #1967D2;\n",
              "      height: 32px;\n",
              "      padding: 0 0 0 0;\n",
              "      width: 32px;\n",
              "    }\n",
              "\n",
              "    .colab-df-convert:hover {\n",
              "      background-color: #E2EBFA;\n",
              "      box-shadow: 0px 1px 2px rgba(60, 64, 67, 0.3), 0px 1px 3px 1px rgba(60, 64, 67, 0.15);\n",
              "      fill: #174EA6;\n",
              "    }\n",
              "\n",
              "    .colab-df-buttons div {\n",
              "      margin-bottom: 4px;\n",
              "    }\n",
              "\n",
              "    [theme=dark] .colab-df-convert {\n",
              "      background-color: #3B4455;\n",
              "      fill: #D2E3FC;\n",
              "    }\n",
              "\n",
              "    [theme=dark] .colab-df-convert:hover {\n",
              "      background-color: #434B5C;\n",
              "      box-shadow: 0px 1px 3px 1px rgba(0, 0, 0, 0.15);\n",
              "      filter: drop-shadow(0px 1px 2px rgba(0, 0, 0, 0.3));\n",
              "      fill: #FFFFFF;\n",
              "    }\n",
              "  </style>\n",
              "\n",
              "    <script>\n",
              "      const buttonEl =\n",
              "        document.querySelector('#df-e80f20cf-67b8-4cab-a301-8ab101f6ed5e button.colab-df-convert');\n",
              "      buttonEl.style.display =\n",
              "        google.colab.kernel.accessAllowed ? 'block' : 'none';\n",
              "\n",
              "      async function convertToInteractive(key) {\n",
              "        const element = document.querySelector('#df-e80f20cf-67b8-4cab-a301-8ab101f6ed5e');\n",
              "        const dataTable =\n",
              "          await google.colab.kernel.invokeFunction('convertToInteractive',\n",
              "                                                    [key], {});\n",
              "        if (!dataTable) return;\n",
              "\n",
              "        const docLinkHtml = 'Like what you see? Visit the ' +\n",
              "          '<a target=\"_blank\" href=https://colab.research.google.com/notebooks/data_table.ipynb>data table notebook</a>'\n",
              "          + ' to learn more about interactive tables.';\n",
              "        element.innerHTML = '';\n",
              "        dataTable['output_type'] = 'display_data';\n",
              "        await google.colab.output.renderOutput(dataTable, element);\n",
              "        const docLink = document.createElement('div');\n",
              "        docLink.innerHTML = docLinkHtml;\n",
              "        element.appendChild(docLink);\n",
              "      }\n",
              "    </script>\n",
              "  </div>\n",
              "\n",
              "\n",
              "    </div>\n",
              "  </div>\n"
            ],
            "application/vnd.google.colaboratory.intrinsic+json": {
              "type": "dataframe",
              "summary": "{\n  \"name\": \"df[['math score', 'reading score', 'writing score']]\",\n  \"rows\": 1,\n  \"fields\": [\n    {\n      \"column\": \"math score\",\n      \"properties\": {\n        \"dtype\": \"number\",\n        \"std\": null,\n        \"min\": 65,\n        \"max\": 65,\n        \"num_unique_values\": 1,\n        \"samples\": [\n          65\n        ],\n        \"semantic_type\": \"\",\n        \"description\": \"\"\n      }\n    },\n    {\n      \"column\": \"reading score\",\n      \"properties\": {\n        \"dtype\": \"number\",\n        \"std\": null,\n        \"min\": 72,\n        \"max\": 72,\n        \"num_unique_values\": 1,\n        \"samples\": [\n          72\n        ],\n        \"semantic_type\": \"\",\n        \"description\": \"\"\n      }\n    },\n    {\n      \"column\": \"writing score\",\n      \"properties\": {\n        \"dtype\": \"number\",\n        \"std\": null,\n        \"min\": 74,\n        \"max\": 74,\n        \"num_unique_values\": 1,\n        \"samples\": [\n          74\n        ],\n        \"semantic_type\": \"\",\n        \"description\": \"\"\n      }\n    }\n  ]\n}"
            }
          },
          "metadata": {},
          "execution_count": 106
        }
      ]
    },
    {
      "cell_type": "code",
      "source": [
        "df[['math score', 'reading score', 'writing score']].min() #minimum"
      ],
      "metadata": {
        "colab": {
          "base_uri": "https://localhost:8080/",
          "height": 178
        },
        "id": "jRIrXfUKd2hh",
        "outputId": "aa5ceec8-b28f-4608-93df-051d95503ac7"
      },
      "execution_count": 107,
      "outputs": [
        {
          "output_type": "execute_result",
          "data": {
            "text/plain": [
              "math score        0\n",
              "reading score    17\n",
              "writing score    10\n",
              "dtype: int64"
            ],
            "text/html": [
              "<div>\n",
              "<style scoped>\n",
              "    .dataframe tbody tr th:only-of-type {\n",
              "        vertical-align: middle;\n",
              "    }\n",
              "\n",
              "    .dataframe tbody tr th {\n",
              "        vertical-align: top;\n",
              "    }\n",
              "\n",
              "    .dataframe thead th {\n",
              "        text-align: right;\n",
              "    }\n",
              "</style>\n",
              "<table border=\"1\" class=\"dataframe\">\n",
              "  <thead>\n",
              "    <tr style=\"text-align: right;\">\n",
              "      <th></th>\n",
              "      <th>0</th>\n",
              "    </tr>\n",
              "  </thead>\n",
              "  <tbody>\n",
              "    <tr>\n",
              "      <th>math score</th>\n",
              "      <td>0</td>\n",
              "    </tr>\n",
              "    <tr>\n",
              "      <th>reading score</th>\n",
              "      <td>17</td>\n",
              "    </tr>\n",
              "    <tr>\n",
              "      <th>writing score</th>\n",
              "      <td>10</td>\n",
              "    </tr>\n",
              "  </tbody>\n",
              "</table>\n",
              "</div><br><label><b>dtype:</b> int64</label>"
            ]
          },
          "metadata": {},
          "execution_count": 107
        }
      ]
    },
    {
      "cell_type": "code",
      "source": [
        "df[['math score', 'reading score', 'writing score']].max() #maximum"
      ],
      "metadata": {
        "colab": {
          "base_uri": "https://localhost:8080/",
          "height": 178
        },
        "id": "IO0lz-heeNQv",
        "outputId": "ee5fbef9-9d98-4712-e0e6-5b7535554664"
      },
      "execution_count": 108,
      "outputs": [
        {
          "output_type": "execute_result",
          "data": {
            "text/plain": [
              "math score       100\n",
              "reading score    100\n",
              "writing score    100\n",
              "dtype: int64"
            ],
            "text/html": [
              "<div>\n",
              "<style scoped>\n",
              "    .dataframe tbody tr th:only-of-type {\n",
              "        vertical-align: middle;\n",
              "    }\n",
              "\n",
              "    .dataframe tbody tr th {\n",
              "        vertical-align: top;\n",
              "    }\n",
              "\n",
              "    .dataframe thead th {\n",
              "        text-align: right;\n",
              "    }\n",
              "</style>\n",
              "<table border=\"1\" class=\"dataframe\">\n",
              "  <thead>\n",
              "    <tr style=\"text-align: right;\">\n",
              "      <th></th>\n",
              "      <th>0</th>\n",
              "    </tr>\n",
              "  </thead>\n",
              "  <tbody>\n",
              "    <tr>\n",
              "      <th>math score</th>\n",
              "      <td>100</td>\n",
              "    </tr>\n",
              "    <tr>\n",
              "      <th>reading score</th>\n",
              "      <td>100</td>\n",
              "    </tr>\n",
              "    <tr>\n",
              "      <th>writing score</th>\n",
              "      <td>100</td>\n",
              "    </tr>\n",
              "  </tbody>\n",
              "</table>\n",
              "</div><br><label><b>dtype:</b> int64</label>"
            ]
          },
          "metadata": {},
          "execution_count": 108
        }
      ]
    },
    {
      "cell_type": "code",
      "source": [
        "df[['math score', 'reading score', 'writing score']].std() #standard deviation"
      ],
      "metadata": {
        "colab": {
          "base_uri": "https://localhost:8080/",
          "height": 178
        },
        "id": "1omrFYgUeTcT",
        "outputId": "69c3330c-2cdf-43cb-ca46-a60bcbe805b2"
      },
      "execution_count": 109,
      "outputs": [
        {
          "output_type": "execute_result",
          "data": {
            "text/plain": [
              "math score       15.163080\n",
              "reading score    14.600192\n",
              "writing score    15.195657\n",
              "dtype: float64"
            ],
            "text/html": [
              "<div>\n",
              "<style scoped>\n",
              "    .dataframe tbody tr th:only-of-type {\n",
              "        vertical-align: middle;\n",
              "    }\n",
              "\n",
              "    .dataframe tbody tr th {\n",
              "        vertical-align: top;\n",
              "    }\n",
              "\n",
              "    .dataframe thead th {\n",
              "        text-align: right;\n",
              "    }\n",
              "</style>\n",
              "<table border=\"1\" class=\"dataframe\">\n",
              "  <thead>\n",
              "    <tr style=\"text-align: right;\">\n",
              "      <th></th>\n",
              "      <th>0</th>\n",
              "    </tr>\n",
              "  </thead>\n",
              "  <tbody>\n",
              "    <tr>\n",
              "      <th>math score</th>\n",
              "      <td>15.163080</td>\n",
              "    </tr>\n",
              "    <tr>\n",
              "      <th>reading score</th>\n",
              "      <td>14.600192</td>\n",
              "    </tr>\n",
              "    <tr>\n",
              "      <th>writing score</th>\n",
              "      <td>15.195657</td>\n",
              "    </tr>\n",
              "  </tbody>\n",
              "</table>\n",
              "</div><br><label><b>dtype:</b> float64</label>"
            ]
          },
          "metadata": {},
          "execution_count": 109
        }
      ]
    },
    {
      "cell_type": "code",
      "source": [
        "# Summary of Descriptive Statistics\n",
        "print(\"Summary of Descriptive Statistics:\")\n",
        "print(\"\\nMean:\")\n",
        "print(df[['math score', 'reading score', 'writing score']].mean())\n",
        "print(\"\\nMedian:\")\n",
        "print(df[['math score', 'reading score', 'writing score']].median())\n",
        "print(\"\\nMode:\")\n",
        "print(df[['math score', 'reading score', 'writing score']].mode())\n",
        "print(\"\\nMinimum:\")\n",
        "print(df[['math score', 'reading score', 'writing score']].min())\n",
        "print(\"\\nMaximum:\")\n",
        "print(df[['math score', 'reading score', 'writing score']].max())\n",
        "print(\"\\nStandard Deviation:\")\n",
        "print(df[['math score', 'reading score', 'writing score']].std())\n",
        "\n",
        "# Observations\n",
        "print(\"\\nObservations:\")\n",
        "print(\"The average math score is slightly lower than the average reading and writing scores, indicating that students may find math more challenging.\")\n",
        "print(\"The standard deviation for math score is also slightly higher, signifying more variability in math scores compared to reading and writing.\")\n",
        "print(\"The mode can be helpful to identify the most frequent score, but in this case, there is more than one mode, suggesting a wider range of scores.\")\n",
        "print(\"The minimum and maximum scores provide insights into the score range. We see that the maximum score is not the same for the three subjects, and there is a range of scores for each subject.\")\n"
      ],
      "metadata": {
        "colab": {
          "base_uri": "https://localhost:8080/"
        },
        "id": "2bYp-P0lenMm",
        "outputId": "3ee16ca9-5805-4e6c-cc31-f01e08853d2c"
      },
      "execution_count": 110,
      "outputs": [
        {
          "output_type": "stream",
          "name": "stdout",
          "text": [
            "Summary of Descriptive Statistics:\n",
            "\n",
            "Mean:\n",
            "math score       66.089\n",
            "reading score    69.169\n",
            "writing score    68.054\n",
            "dtype: float64\n",
            "\n",
            "Median:\n",
            "math score       66.0\n",
            "reading score    70.0\n",
            "writing score    69.0\n",
            "dtype: float64\n",
            "\n",
            "Mode:\n",
            "   math score  reading score  writing score\n",
            "0          65             72             74\n",
            "\n",
            "Minimum:\n",
            "math score        0\n",
            "reading score    17\n",
            "writing score    10\n",
            "dtype: int64\n",
            "\n",
            "Maximum:\n",
            "math score       100\n",
            "reading score    100\n",
            "writing score    100\n",
            "dtype: int64\n",
            "\n",
            "Standard Deviation:\n",
            "math score       15.163080\n",
            "reading score    14.600192\n",
            "writing score    15.195657\n",
            "dtype: float64\n",
            "\n",
            "Observations:\n",
            "The average math score is slightly lower than the average reading and writing scores, indicating that students may find math more challenging.\n",
            "The standard deviation for math score is also slightly higher, signifying more variability in math scores compared to reading and writing.\n",
            "The mode can be helpful to identify the most frequent score, but in this case, there is more than one mode, suggesting a wider range of scores.\n",
            "The minimum and maximum scores provide insights into the score range. We see that the maximum score is not the same for the three subjects, and there is a range of scores for each subject.\n"
          ]
        }
      ]
    },
    {
      "cell_type": "markdown",
      "source": [
        "###**2. Identify and Handle Outliers:**\n",
        "\n",
        "2.1 Use boxplots to visually identify outliers in the math score, reading score, and writing score columns.\n"
      ],
      "metadata": {
        "id": "ePuiggkpfIgJ"
      }
    },
    {
      "cell_type": "code",
      "source": [
        "import matplotlib.pyplot as plt\n",
        "import seaborn as sns\n",
        "\n",
        "#boxplots to visually identify outliers in the math score, reading score, and writing score\n",
        "sns.boxplot(x=df['math score'])\n",
        "plt.show()\n",
        "\n",
        "sns.boxplot(x=df['reading score'])\n",
        "plt.show()\n",
        "\n",
        "sns.boxplot(x=df['writing score'])\n",
        "plt.show()"
      ],
      "metadata": {
        "colab": {
          "base_uri": "https://localhost:8080/",
          "height": 1000
        },
        "id": "bKbFtSGHfOxB",
        "outputId": "8180d74c-dfc9-4cc3-9dc0-9985df0fe1cb"
      },
      "execution_count": 111,
      "outputs": [
        {
          "output_type": "stream",
          "name": "stderr",
          "text": [
            "/usr/local/lib/python3.10/dist-packages/seaborn/categorical.py:640: FutureWarning: SeriesGroupBy.grouper is deprecated and will be removed in a future version of pandas.\n",
            "  positions = grouped.grouper.result_index.to_numpy(dtype=float)\n"
          ]
        },
        {
          "output_type": "display_data",
          "data": {
            "text/plain": [
              "<Figure size 640x480 with 1 Axes>"
            ],
            "image/png": "[encoded data removed]"
          },
          "metadata": {}
        },
        {
          "output_type": "stream",
          "name": "stderr",
          "text": [
            "/usr/local/lib/python3.10/dist-packages/seaborn/categorical.py:640: FutureWarning: SeriesGroupBy.grouper is deprecated and will be removed in a future version of pandas.\n",
            "  positions = grouped.grouper.result_index.to_numpy(dtype=float)\n"
          ]
        },
        {
          "output_type": "display_data",
          "data": {
            "text/plain": [
              "<Figure size 640x480 with 1 Axes>"
            ],
            "image/png": "[encoded data removed]"
          },
          "metadata": {}
        },
        {
          "output_type": "stream",
          "name": "stderr",
          "text": [
            "/usr/local/lib/python3.10/dist-packages/seaborn/categorical.py:640: FutureWarning: SeriesGroupBy.grouper is deprecated and will be removed in a future version of pandas.\n",
            "  positions = grouped.grouper.result_index.to_numpy(dtype=float)\n"
          ]
        },
        {
          "output_type": "display_data",
          "data": {
            "text/plain": [
              "<Figure size 640x480 with 1 Axes>"
            ],
            "image/png": "[encoded data removed]"
          },
          "metadata": {}
        }
      ]
    },
    {
      "cell_type": "markdown",
      "source": [
        "2.2 Calculate the Interquartile Range (IQR) for each of these score columns."
      ],
      "metadata": {
        "id": "TJSpHogxiieL"
      }
    },
    {
      "cell_type": "code",
      "source": [
        "#IQR for \"math score\"\n",
        "Q1_math = df['math score'].quantile(0.25)\n",
        "Q3_math = df['math score'].quantile(0.75)\n",
        "\n",
        "IQR_math = Q3_math - Q1_math\n",
        "\n",
        "#IQR for \"reading score\"\n",
        "Q1_reading = df['reading score'].quantile(0.25)\n",
        "Q3_reading = df['reading score'].quantile(0.75)\n",
        "\n",
        "IQR_reading = Q3_reading - Q1_reading\n",
        "\n",
        "#IQR for \"writing score\"\n",
        "Q1_writing = df['writing score'].quantile(0.25)\n",
        "Q3_writing = df['writing score'].quantile(0.75)\n",
        "\n",
        "IQR_writing = Q3_writing - Q1_writing\n",
        "\n",
        "# Print the results\n",
        "print(f\"\\nIQR for math score:\")\n",
        "print(f\"\\nQ1 for Math Score: {Q1_math}\")\n",
        "print(f\"Q3 for Math Score: {Q3_math}\")\n",
        "print(f\"IQR for Math Score: {IQR_math}\")\n",
        "\n",
        "print(f\"\\nIQR for reading score:\")\n",
        "print(f\"\\nQ1 for Reading Score: {Q1_reading}\")\n",
        "print(f\"Q3 for Reading Score: {Q3_reading}\")\n",
        "print(f\"IQR for Reading Score: {IQR_reading}\")\n",
        "\n",
        "print(f\"\\nIQR for writing score:\")\n",
        "print(f\"\\nQ1 for Writing Score: {Q1_writing}\")\n",
        "print(f\"Q3 for Writing Score: {Q3_writing}\")\n",
        "print(f\"IQR for Writing Score: {IQR_writing}\")"
      ],
      "metadata": {
        "colab": {
          "base_uri": "https://localhost:8080/"
        },
        "id": "2nimQrIljAPz",
        "outputId": "ac4cbbd6-f319-4878-bf32-88cbc238ff46"
      },
      "execution_count": 112,
      "outputs": [
        {
          "output_type": "stream",
          "name": "stdout",
          "text": [
            "\n",
            "IQR for math score:\n",
            "\n",
            "Q1 for Math Score: 57.0\n",
            "Q3 for Math Score: 77.0\n",
            "IQR for Math Score: 20.0\n",
            "\n",
            "IQR for reading score:\n",
            "\n",
            "Q1 for Reading Score: 59.0\n",
            "Q3 for Reading Score: 79.0\n",
            "IQR for Reading Score: 20.0\n",
            "\n",
            "IQR for writing score:\n",
            "\n",
            "Q1 for Writing Score: 57.75\n",
            "Q3 for Writing Score: 79.0\n",
            "IQR for Writing Score: 21.25\n"
          ]
        }
      ]
    },
    {
      "cell_type": "markdown",
      "source": [
        "2.3 Determine the lower and upper bounds for outliers using the IQR method.\n"
      ],
      "metadata": {
        "id": "XENg4XgGl4YC"
      }
    },
    {
      "cell_type": "code",
      "source": [
        "#The lower and upper bounds for math score outliers\n",
        "lower_bound_math = Q1_math - 1.5 * IQR_math\n",
        "upper_bound_math = Q3_math + 1.5 * IQR_math\n",
        "\n",
        "#The lower and upper bounds for reading score outliers\n",
        "lower_bound_reading = Q1_reading - 1.5 * IQR_reading\n",
        "upper_bound_reading = Q3_reading + 1.5 * IQR_reading\n",
        "\n",
        "#The lower and upper bounds for writing score outliers\n",
        "lower_bound_writing = Q1_writing - 1.5 * IQR_writing\n",
        "upper_bound_writing = Q3_writing + 1.5 * IQR_writing\n",
        "\n",
        "# Print the results\n",
        "print(f\"\\nThe lower and upper bounds for math score outliers:\")\n",
        "print(f\"\\nLower Bound for Math Score: {lower_bound_math}\")\n",
        "print(f\"Upper Bound for Math Score: {upper_bound_math}\")\n",
        "print(f\"\\nThe lower and upper bounds for reading score outliers:\")\n",
        "print(f\"\\nLower Bound for Reading Score: {lower_bound_reading}\")\n",
        "print(f\"Upper Bound for Reading Score: {upper_bound_reading}\")\n",
        "print(f\"\\nThe lower and upper bounds for writing score outliers:\")\n",
        "print(f\"\\nLower Bound for Writing Score: {lower_bound_writing}\")\n",
        "print(f\"Upper Bound for Writing Score: {upper_bound_writing}\")"
      ],
      "metadata": {
        "colab": {
          "base_uri": "https://localhost:8080/"
        },
        "id": "rRDj5Z0Cl9ez",
        "outputId": "853ba323-0a40-4f23-e295-8ba817a2ebfd"
      },
      "execution_count": 113,
      "outputs": [
        {
          "output_type": "stream",
          "name": "stdout",
          "text": [
            "\n",
            "The lower and upper bounds for math score outliers:\n",
            "\n",
            "Lower Bound for Math Score: 27.0\n",
            "Upper Bound for Math Score: 107.0\n",
            "\n",
            "The lower and upper bounds for reading score outliers:\n",
            "\n",
            "Lower Bound for Reading Score: 29.0\n",
            "Upper Bound for Reading Score: 109.0\n",
            "\n",
            "The lower and upper bounds for writing score outliers:\n",
            "\n",
            "Lower Bound for Writing Score: 25.875\n",
            "Upper Bound for Writing Score: 110.875\n"
          ]
        }
      ]
    },
    {
      "cell_type": "markdown",
      "source": [
        "2.4 Handle the outliers by removing them from the dataset.\n"
      ],
      "metadata": {
        "id": "QR2WQsLmnXlJ"
      }
    },
    {
      "cell_type": "code",
      "source": [
        "# Remove outliers for math score\n",
        "df_no_outliers_math = df[(df['math score'] >= lower_bound_math) & (df['math score'] <= upper_bound_math)]\n",
        "\n",
        "# Remove outliers for reading score\n",
        "df_no_outliers_reading = df_no_outliers_math[(df_no_outliers_math['reading score'] >= lower_bound_reading) & (df_no_outliers_math['reading score'] <= upper_bound_reading)]\n",
        "\n",
        "# Remove outliers for writing score\n",
        "df_no_outliers = df_no_outliers_reading[(df_no_outliers_reading['writing score'] >= lower_bound_writing) & (df_no_outliers_reading['writing score'] <= upper_bound_writing)]\n",
        "\n",
        "# Print the shape of the new DataFrame without outliers\n",
        "print(\"Shape of DataFrame after removing outliers:\")\n",
        "print(df_no_outliers.shape)\n"
      ],
      "metadata": {
        "colab": {
          "base_uri": "https://localhost:8080/"
        },
        "id": "SLIq_3YincGQ",
        "outputId": "c55b5278-66ff-46d2-cca2-9d0ea3fdb0c9"
      },
      "execution_count": 114,
      "outputs": [
        {
          "output_type": "stream",
          "name": "stdout",
          "text": [
            "Shape of DataFrame after removing outliers:\n",
            "(988, 8)\n"
          ]
        }
      ]
    },
    {
      "cell_type": "code",
      "source": [
        "#boxplots for after removing outliers in the math score, reading score, and writing score\n",
        "sns.boxplot(x=df_no_outliers['math score'])\n",
        "plt.show()\n",
        "\n",
        "sns.boxplot(x=df_no_outliers['reading score'])\n",
        "plt.show()\n",
        "\n",
        "sns.boxplot(x=df_no_outliers['writing score'])\n",
        "plt.show()"
      ],
      "metadata": {
        "colab": {
          "base_uri": "https://localhost:8080/",
          "height": 1000
        },
        "id": "7xd9DrwtoSOD",
        "outputId": "6f06b67b-bcab-4adf-8e76-b0b365abcfba"
      },
      "execution_count": 115,
      "outputs": [
        {
          "output_type": "stream",
          "name": "stderr",
          "text": [
            "/usr/local/lib/python3.10/dist-packages/seaborn/categorical.py:640: FutureWarning: SeriesGroupBy.grouper is deprecated and will be removed in a future version of pandas.\n",
            "  positions = grouped.grouper.result_index.to_numpy(dtype=float)\n"
          ]
        },
        {
          "output_type": "display_data",
          "data": {
            "text/plain": [
              "<Figure size 640x480 with 1 Axes>"
            ],
            "image/png": "[encoded data removed]"
          },
          "metadata": {}
        },
        {
          "output_type": "stream",
          "name": "stderr",
          "text": [
            "/usr/local/lib/python3.10/dist-packages/seaborn/categorical.py:640: FutureWarning: SeriesGroupBy.grouper is deprecated and will be removed in a future version of pandas.\n",
            "  positions = grouped.grouper.result_index.to_numpy(dtype=float)\n"
          ]
        },
        {
          "output_type": "display_data",
          "data": {
            "text/plain": [
              "<Figure size 640x480 with 1 Axes>"
            ],
            "image/png": "[encoded data removed]"
          },
          "metadata": {}
        },
        {
          "output_type": "stream",
          "name": "stderr",
          "text": [
            "/usr/local/lib/python3.10/dist-packages/seaborn/categorical.py:640: FutureWarning: SeriesGroupBy.grouper is deprecated and will be removed in a future version of pandas.\n",
            "  positions = grouped.grouper.result_index.to_numpy(dtype=float)\n"
          ]
        },
        {
          "output_type": "display_data",
          "data": {
            "text/plain": [
              "<Figure size 640x480 with 1 Axes>"
            ],
            "image/png": "[encoded data removed]"
          },
          "metadata": {}
        }
      ]
    },
    {
      "cell_type": "markdown",
      "source": [
        "###**3. Check Distribution and Skewness:**\n",
        "3.1 Plot histograms and/or density plots for math score, reading score, and writing score to visualize their distributions.\n"
      ],
      "metadata": {
        "id": "Zis400sWpC5_"
      }
    },
    {
      "cell_type": "code",
      "source": [
        "#density plots for math score, reading score, and writing score\n",
        "sns.kdeplot(data=df_no_outliers, x='math score')\n",
        "plt.title('Distribution of Math Scores')\n",
        "plt.show()\n",
        "\n",
        "sns.kdeplot(data=df_no_outliers, x='reading score')\n",
        "plt.title('Distribution of Reading Scores')\n",
        "plt.show()\n",
        "\n",
        "sns.kdeplot(data=df_no_outliers, x='writing score')\n",
        "plt.title('Distribution of Writing Scores')\n",
        "plt.show()"
      ],
      "metadata": {
        "colab": {
          "base_uri": "https://localhost:8080/",
          "height": 1000
        },
        "id": "bvodol9vpHcT",
        "outputId": "6108c5ab-9f45-4811-ecc0-5096cea21835"
      },
      "execution_count": 116,
      "outputs": [
        {
          "output_type": "display_data",
          "data": {
            "text/plain": [
              "<Figure size 640x480 with 1 Axes>"
            ],
            "image/png": "[encoded data removed]"
          },
          "metadata": {}
        },
        {
          "output_type": "display_data",
          "data": {
            "text/plain": [
              "<Figure size 640x480 with 1 Axes>"
            ],
            "image/png": "[encoded data removed]"
          },
          "metadata": {}
        },
        {
          "output_type": "display_data",
          "data": {
            "text/plain": [
              "<Figure size 640x480 with 1 Axes>"
            ],
            "image/png": "[encoded data removed]"
          },
          "metadata": {}
        }
      ]
    },
    {
      "cell_type": "code",
      "source": [
        "#histogram plots for math score, reading score, and writing score\n",
        "sns.histplot(data=df_no_outliers, x='math score', kde=True)\n",
        "plt.title('Distribution of Math Scores')\n",
        "plt.show()\n",
        "\n",
        "sns.histplot(data=df_no_outliers, x='reading score', kde=True)\n",
        "plt.title('Distribution of Reading Scores')\n",
        "plt.show()\n",
        "\n",
        "sns.histplot(data=df_no_outliers, x='writing score', kde=True)\n",
        "plt.title('Distribution of Writing Scores')\n",
        "plt.show()"
      ],
      "metadata": {
        "colab": {
          "base_uri": "https://localhost:8080/",
          "height": 1000
        },
        "id": "2Kk6-5bEqWhd",
        "outputId": "3ed8afa0-934c-4a39-f029-7554700c7604"
      },
      "execution_count": 117,
      "outputs": [
        {
          "output_type": "display_data",
          "data": {
            "text/plain": [
              "<Figure size 640x480 with 1 Axes>"
            ],
            "image/png": "[encoded data removed]"
          },
          "metadata": {}
        },
        {
          "output_type": "display_data",
          "data": {
            "text/plain": [
              "<Figure size 640x480 with 1 Axes>"
            ],
            "image/png": "[encoded data removed]"
          },
          "metadata": {}
        },
        {
          "output_type": "display_data",
          "data": {
            "text/plain": [
              "<Figure size 640x480 with 1 Axes>"
            ],
            "image/png": "[encoded data removed]"
          },
          "metadata": {}
        }
      ]
    },
    {
      "cell_type": "markdown",
      "source": [
        "3.2 Calculate and interpret the skewness for each of these score columns.\n"
      ],
      "metadata": {
        "id": "3tGxcBXIrOAJ"
      }
    },
    {
      "cell_type": "code",
      "source": [
        "# Calculate skewness for each score column\n",
        "skewness_math = df_no_outliers['math score'].skew()\n",
        "skewness_reading = df_no_outliers['reading score'].skew()\n",
        "skewness_writing = df_no_outliers['writing score'].skew()\n",
        "\n",
        "# Print the skewness values\n",
        "print(f\"Skewness for Math Score: {skewness_math}\")\n",
        "print(f\"Skewness for Reading Score: {skewness_reading}\")\n",
        "print(f\"Skewness for Writing Score: {skewness_writing}\")\n",
        "\n",
        "# Interpret the skewness\n",
        "print(\"\\nInterpretation of Skewness:\")\n",
        "if skewness_math > 0:\n",
        "    print(\"\\nMath Score distribution is slightly positively skewed.\")\n",
        "elif skewness_math < 0:\n",
        "    print(\"\\nMath Score distribution is slightly negatively skewed.\")\n",
        "else:\n",
        "    print(\"\\nMath Score distribution is approximately symmetric.\")\n",
        "\n",
        "if skewness_reading > 0:\n",
        "    print(\"\\nReading Score distribution is slightly positively skewed.\")\n",
        "elif skewness_reading < 0:\n",
        "    print(\"\\nReading Score distribution is slightly negatively skewed.\")\n",
        "else:\n",
        "    print(\"\\nReading Score distribution is approximately symmetric.\")\n",
        "\n",
        "if skewness_writing > 0:\n",
        "    print(\"\\nWriting Score distribution is slightly positively skewed.\")\n",
        "elif skewness_writing < 0:\n",
        "    print(\"\\nWriting Score distribution is slightly negatively skewed.\")\n",
        "else:\n",
        "    print(\"\\nWriting Score distribution is approximately symmetric.\")\n"
      ],
      "metadata": {
        "colab": {
          "base_uri": "https://localhost:8080/"
        },
        "id": "rPcflO1hrUKI",
        "outputId": "e5a14504-f0b0-4c39-94d8-8ff9aae9ad00"
      },
      "execution_count": 118,
      "outputs": [
        {
          "output_type": "stream",
          "name": "stdout",
          "text": [
            "Skewness for Math Score: -0.03909973819632616\n",
            "Skewness for Reading Score: -0.1078812813873009\n",
            "Skewness for Writing Score: -0.10873128839119586\n",
            "\n",
            "Interpretation of Skewness:\n",
            "\n",
            "Math Score distribution is slightly negatively skewed.\n",
            "\n",
            "Reading Score distribution is slightly negatively skewed.\n",
            "\n",
            "Writing Score distribution is slightly negatively skewed.\n"
          ]
        }
      ]
    },
    {
      "cell_type": "markdown",
      "source": [
        "3.3 Discuss whether the distributions are skewed to the left or right and suggest any appropriate transformations if needed to address skewness.\n"
      ],
      "metadata": {
        "id": "98LWdpx3t6f2"
      }
    },
    {
      "cell_type": "code",
      "source": [
        "\n",
        "print(\"\\nDiscussion on Skewness and Transformations:\")\n",
        "print(\"\\nBased on the skewness values:\")\n",
        "\n",
        "if skewness_math > 0:\n",
        "    print(\n",
        "        \"\\nThe Math Score distribution is slightly positively skewed, meaning there is a longer tail on the right side. This suggests that there are a few students who have exceptionally high math scores.\"\n",
        "    )\n",
        "    print(\n",
        "        \"Potential transformations to address positive skewness include log transformation or square root transformation.\"\n",
        "    )\n",
        "elif skewness_math < 0:\n",
        "    print(\n",
        "        \"\\nThe Math Score distribution is slightly negatively skewed, meaning there is a longer tail on the left side.\"\n",
        "    )\n",
        "    print(\n",
        "        \"Potential transformations to address negative skewness include exponential transformation or reciprocal transformation.\"\n",
        "    )\n",
        "else:\n",
        "    print(\"\\nThe Math Score distribution is approximately symmetric.\")\n",
        "\n",
        "if skewness_reading > 0:\n",
        "    print(\n",
        "        \"\\nThe Reading Score distribution is slightly positively skewed, meaning there is a longer tail on the right side.\"\n",
        "    )\n",
        "    print(\n",
        "        \"Potential transformations to address positive skewness include log transformation or square root transformation.\"\n",
        "    )\n",
        "elif skewness_reading < 0:\n",
        "    print(\n",
        "        \"\\nThe Reading Score distribution is slightly negatively skewed, meaning there is a longer tail on the left side.\"\n",
        "    )\n",
        "    print(\n",
        "        \"Potential transformations to address negative skewness include exponential transformation or reciprocal transformation.\"\n",
        "    )\n",
        "else:\n",
        "    print(\"nThe Reading Score distribution is approximately symmetric.\")\n",
        "\n",
        "if skewness_writing > 0:\n",
        "    print(\n",
        "        \"\\nThe Writing Score distribution is slightly positively skewed, meaning there is a longer tail on the right side.\"\n",
        "    )\n",
        "    print(\n",
        "        \"Potential transformations to address positive skewness include log transformation or square root transformation.\"\n",
        "    )\n",
        "elif skewness_writing < 0:\n",
        "    print(\n",
        "        \"\\nThe Writing Score distribution is slightly negatively skewed, meaning there is a longer tail on the left side.\"\n",
        "    )\n",
        "    print(\n",
        "        \"Potential transformations to address negative skewness include exponential transformation or reciprocal transformation.\"\n",
        "    )\n",
        "else:\n",
        "    print(\"\\nThe Writing Score distribution is approximately symmetric.\")\n",
        "\n",
        "print(\n",
        "    \"\\nHowever, the skewness values are relatively small, indicating that the distributions are not severely skewed.\"\n",
        ")\n",
        "print(\n",
        "    \"\\nTherefore, it might not be necessary to perform any transformations in this case, unless specific modeling techniques necessitate a more normalized distribution.\"\n",
        ")\n"
      ],
      "metadata": {
        "colab": {
          "base_uri": "https://localhost:8080/"
        },
        "id": "eyN_KJKMuLNi",
        "outputId": "0b1fc448-b401-4673-a078-3a73d914342c"
      },
      "execution_count": 119,
      "outputs": [
        {
          "output_type": "stream",
          "name": "stdout",
          "text": [
            "\n",
            "Discussion on Skewness and Transformations:\n",
            "\n",
            "Based on the skewness values:\n",
            "\n",
            "The Math Score distribution is slightly negatively skewed, meaning there is a longer tail on the left side.\n",
            "Potential transformations to address negative skewness include exponential transformation or reciprocal transformation.\n",
            "\n",
            "The Reading Score distribution is slightly negatively skewed, meaning there is a longer tail on the left side.\n",
            "Potential transformations to address negative skewness include exponential transformation or reciprocal transformation.\n",
            "\n",
            "The Writing Score distribution is slightly negatively skewed, meaning there is a longer tail on the left side.\n",
            "Potential transformations to address negative skewness include exponential transformation or reciprocal transformation.\n",
            "\n",
            "However, the skewness values are relatively small, indicating that the distributions are not severely skewed.\n",
            "\n",
            "Therefore, it might not be necessary to perform any transformations in this case, unless specific modeling techniques necessitate a more normalized distribution.\n"
          ]
        }
      ]
    },
    {
      "cell_type": "markdown",
      "source": [
        "###**4.Hypothesis Testing:**\n",
        "**4.1 Formulate Hypotheses:**\n",
        "\n",
        "State the null and alternative hypotheses to test whether the mean math score differs between students who completed the test preparation course and those who did not.\n"
      ],
      "metadata": {
        "id": "aqFWPLDFyKHs"
      }
    },
    {
      "cell_type": "code",
      "source": [
        "#Hypothesis Testing:\n",
        "#Formulate Hypotheses\n",
        "print(\"Hypotheses:\")\n",
        "print(\"Null Hypothesis (H0): There is no significant difference in the mean math score between students who completed the test preparation course and those who did not.\")\n",
        "print(\"Alternative Hypothesis (H1): There is a significant difference in the mean math score between students who completed the test preparation course and those who did not.\")\n"
      ],
      "metadata": {
        "colab": {
          "base_uri": "https://localhost:8080/"
        },
        "id": "f2SXwR7DyZQ4",
        "outputId": "123e0dbf-a987-44c0-80a3-98fcfb936326"
      },
      "execution_count": 120,
      "outputs": [
        {
          "output_type": "stream",
          "name": "stdout",
          "text": [
            "Hypotheses:\n",
            "Null Hypothesis (H0): There is no significant difference in the mean math score between students who completed the test preparation course and those who did not.\n",
            "Alternative Hypothesis (H1): There is a significant difference in the mean math score between students who completed the test preparation course and those who did not.\n"
          ]
        }
      ]
    },
    {
      "cell_type": "markdown",
      "source": [
        "**4.2 Significance Level:**\n",
        "\n",
        "Specify the significance level (α - alpha) you will use for the hypothesis test. Common choice is α = 0.05.\n"
      ],
      "metadata": {
        "id": "sGrPoYTdy0WE"
      }
    },
    {
      "cell_type": "code",
      "source": [
        "#Significance Level:\n",
        "alpha = 0.05\n",
        "print(f\"Significance Level (alpha): {alpha}\")"
      ],
      "metadata": {
        "colab": {
          "base_uri": "https://localhost:8080/"
        },
        "id": "0uA0u6tky7ru",
        "outputId": "3a87610c-49aa-4f8c-ef8d-030b24e79a84"
      },
      "execution_count": 121,
      "outputs": [
        {
          "output_type": "stream",
          "name": "stdout",
          "text": [
            "Significance Level (alpha): 0.05\n"
          ]
        }
      ]
    },
    {
      "cell_type": "markdown",
      "source": [
        "**4.3 t-test Test Statistic & p-value:**\n",
        "\n",
        "Perform a t-test to compare the means of the two groups.\n",
        "\n",
        "\n"
      ],
      "metadata": {
        "id": "dMNiBZb9zaMQ"
      }
    },
    {
      "cell_type": "code",
      "source": [
        "#from scipy import stats\n",
        "from scipy.stats import ttest_ind\n",
        "\n",
        "# Perform a t-test to compare the means of the two groups\n",
        "\n",
        "# Separate the data into two groups based on test preparation course completion\n",
        "group_completed = df_no_outliers[df_no_outliers['test preparation course'] == 'completed']['math score']\n",
        "group_not_completed = df_no_outliers[df_no_outliers['test preparation course'] == 'none']['math score']\n",
        "\n",
        "# Perform an independent t-test\n",
        "#t_statistic, p_value = stats.ttest_ind(group_completed, group_not_completed)\n",
        "t_statistic, p_value = ttest_ind(group_completed, group_not_completed)"
      ],
      "metadata": {
        "id": "HptoOIG3zwuj"
      },
      "execution_count": 122,
      "outputs": []
    },
    {
      "cell_type": "markdown",
      "source": [
        "Calculate the test statistic and p-value."
      ],
      "metadata": {
        "id": "HXqwJiUz08EY"
      }
    },
    {
      "cell_type": "code",
      "source": [
        "# Print the t-test results\n",
        "print(\"T-test Results:\")\n",
        "print(f\"\\nT-statistic: {t_statistic}\")\n",
        "print(f\"P-value: {p_value}\")"
      ],
      "metadata": {
        "colab": {
          "base_uri": "https://localhost:8080/"
        },
        "id": "XqeyLDc61CLM",
        "outputId": "58dbcc0a-282c-44c9-e1e3-d6aeb8a40205"
      },
      "execution_count": 123,
      "outputs": [
        {
          "output_type": "stream",
          "name": "stdout",
          "text": [
            "T-test Results:\n",
            "\n",
            "T-statistic: 5.324129385590414\n",
            "P-value: 1.2562834777074128e-07\n"
          ]
        }
      ]
    },
    {
      "cell_type": "markdown",
      "source": [
        "Provide the results and interpret them in the context of the hypothesis."
      ],
      "metadata": {
        "id": "WyDNFzW22Hyz"
      }
    },
    {
      "cell_type": "code",
      "source": [
        "# Print the t-test results\n",
        "print(\"T-test Results:\")\n",
        "print(f\"\\nT-statistic: {t_statistic}\")\n",
        "print(f\"P-value: {p_value}\")\n",
        "\n",
        "# Interpretation of the t-test results\n",
        "print(\"\\nInterpretation of the t-test results:\")\n",
        "\n",
        "if p_value < alpha:\n",
        "    print(\n",
        "        f\"\\nThe p-value is less than the significance level (alpha = {alpha}). Therefore, we reject the null hypothesis.\"\n",
        "    )\n",
        "    print(\n",
        "        \"There is sufficient evidence to suggest that there is a statistically significant difference in the mean math score between students who completed the test preparation course and those who did not.\"\n",
        "    )\n",
        "else:\n",
        "    print(\n",
        "        f\"\\nThe p-value is greater than or equal to the significance level (alpha = {alpha}). Therefore, we fail to reject the null hypothesis.\"\n",
        "    )\n",
        "    print(\n",
        "        \"There is not enough evidence to suggest a statistically significant difference in the mean math score between students who completed the test preparation course and those who did not.\"\n",
        "    )\n"
      ],
      "metadata": {
        "colab": {
          "base_uri": "https://localhost:8080/"
        },
        "id": "NCu67tuM2K6b",
        "outputId": "b3051897-57eb-40e6-c1df-2f8a6ed43110"
      },
      "execution_count": 124,
      "outputs": [
        {
          "output_type": "stream",
          "name": "stdout",
          "text": [
            "T-test Results:\n",
            "\n",
            "T-statistic: 5.324129385590414\n",
            "P-value: 1.2562834777074128e-07\n",
            "\n",
            "Interpretation of the t-test results:\n",
            "\n",
            "The p-value is less than the significance level (alpha = 0.05). Therefore, we reject the null hypothesis.\n",
            "There is sufficient evidence to suggest that there is a statistically significant difference in the mean math score between students who completed the test preparation course and those who did not.\n"
          ]
        }
      ]
    },
    {
      "cell_type": "markdown",
      "source": [
        "###**4.4 Decision:**\n",
        "Based on the p-value or the t-statistic, decide whether to reject or fail to reject the null hypothesis.\n"
      ],
      "metadata": {
        "id": "_s2ReNGf3OMw"
      }
    },
    {
      "cell_type": "code",
      "source": [
        "# Decision:\n",
        "# Based on the p-value or the t-statistic, decide whether to reject or fail to reject the null hypothesis.\n",
        "\n",
        "# Decision based on p-value\n",
        "print(\"Decision based on p-value:\")\n",
        "if p_value < alpha:\n",
        "    print(f\"\\nIf p-value of {p_value} is lesser than significance level (alpha = {alpha}), WE REJECT THE NULL HYPOTHESIS.\")\n",
        "else:\n",
        "    print(f\"\\nIf p-value of {p_value} is greater than or equal to significance level (alpha = {alpha}), WE FAIL TO REJECT THE NULL HYPOTHESIS.\")\n"
      ],
      "metadata": {
        "colab": {
          "base_uri": "https://localhost:8080/"
        },
        "id": "rID-HMTz3Sz3",
        "outputId": "6fdc5a03-c3df-4d21-eabd-21cbff132e0c"
      },
      "execution_count": 125,
      "outputs": [
        {
          "output_type": "stream",
          "name": "stdout",
          "text": [
            "Decision based on p-value:\n",
            "\n",
            "If p-value of 1.2562834777074128e-07 is lesser than significance level (alpha = 0.05), WE REJECT THE NULL HYPOTHESIS.\n"
          ]
        }
      ]
    },
    {
      "cell_type": "markdown",
      "source": [
        "Discuss the implications of your decision in relation to the context of the problem."
      ],
      "metadata": {
        "id": "R6XgcEb83y-m"
      }
    },
    {
      "cell_type": "code",
      "source": [
        "#The implications of your decision in relation to the context of the problem.\n",
        "print(\"\\nDiscussion of Implications:\")\n",
        "print(\"\\n* Based on our analysis, we found a statistically significant difference in the mean math score between students who completed the test preparation course and those who did not.\")\n",
        "print(\"\\n* This implies that students who took the test preparation course tend to have higher math scores than students who did not.\")\n",
        "print(\"\\n* From an educational perspective, this suggests that the test preparation course may be beneficial in improving math performance.\")\n",
        "print(\"\\n* These findings can be useful for educators and policymakers in making informed decisions about resource allocation and educational interventions.\")\n",
        "print(\"\\n* For example, more resources might be directed towards offering the test preparation course to students who are struggling with math, or even expanding the program to include other subjects.\")\n",
        "print(\"\\n* However, it's important to acknowledge that this analysis only examines the relationship between test preparation course completion and math scores.\")\n",
        "print(\"\\n* There might be other factors affecting math performance, such as socioeconomic background, parental education, and prior academic achievement.\")\n",
        "print(\"\\n* Future research could explore these factors to gain a more comprehensive understanding of student performance.\")"
      ],
      "metadata": {
        "colab": {
          "base_uri": "https://localhost:8080/"
        },
        "id": "oXKzIXwC3zoZ",
        "outputId": "06a9efdf-da34-4633-d6d4-be703b0b0d97"
      },
      "execution_count": 126,
      "outputs": [
        {
          "output_type": "stream",
          "name": "stdout",
          "text": [
            "\n",
            "Discussion of Implications:\n",
            "\n",
            "* Based on our analysis, we found a statistically significant difference in the mean math score between students who completed the test preparation course and those who did not.\n",
            "\n",
            "* This implies that students who took the test preparation course tend to have higher math scores than students who did not.\n",
            "\n",
            "* From an educational perspective, this suggests that the test preparation course may be beneficial in improving math performance.\n",
            "\n",
            "* These findings can be useful for educators and policymakers in making informed decisions about resource allocation and educational interventions.\n",
            "\n",
            "* For example, more resources might be directed towards offering the test preparation course to students who are struggling with math, or even expanding the program to include other subjects.\n",
            "\n",
            "* However, it's important to acknowledge that this analysis only examines the relationship between test preparation course completion and math scores.\n",
            "\n",
            "* There might be other factors affecting math performance, such as socioeconomic background, parental education, and prior academic achievement.\n",
            "\n",
            "* Future research could explore these factors to gain a more comprehensive understanding of student performance.\n"
          ]
        }
      ]
    },
    {
      "cell_type": "markdown",
      "source": [
        "#**THANK YOU**"
      ],
      "metadata": {
        "id": "H9Z5oCTb5Q1w"
      }
    }
  ]
}